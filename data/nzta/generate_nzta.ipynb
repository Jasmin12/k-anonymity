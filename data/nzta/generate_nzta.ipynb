{
 "cells": [
  {
   "cell_type": "code",
   "execution_count": null,
   "metadata": {},
   "outputs": [],
   "source": [
    "import csv\n",
    "import random\n",
    "\n",
    "# Open the CSV file\n",
    "with open('nzta.csv', 'r') as input_file, open('nzta2.csv', 'w', newline='') as output_file:\n",
    "    reader = csv.reader(input_file)\n",
    "    writer = csv.writer(output_file)\n",
    "\n",
    "    # Read the header row and add the \"zipcode\" column\n",
    "    header = next(reader)\n",
    "    header.append(\"Zipcode\")\n",
    "    writer.writerow(header)\n",
    "\n",
    "    # Iterate through each row and append a random zip code\n",
    "    for row in reader:\n",
    "        zipcode = str(random.randint(10000, 99999))\n",
    "        row.append(zipcode)\n",
    "        writer.writerow(row)\n"
   ]
  },
  {
   "attachments": {},
   "cell_type": "markdown",
   "metadata": {},
   "source": []
  }
 ],
 "metadata": {
  "language_info": {
   "name": "python"
  },
  "orig_nbformat": 4
 },
 "nbformat": 4,
 "nbformat_minor": 2
}
